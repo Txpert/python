{
 "cells": [
  {
   "cell_type": "markdown",
   "id": "74d2c4f8-a163-443a-be1c-e256249fe419",
   "metadata": {},
   "source": [
    "## Ziele des Tages\n",
    "- Syntax zur Definition von Funktionen kennen und anwenden.\n",
    "- Funktionen mit und ohne Argumente und Rückgabewerte definieren.\n",
    "- Funktionen mit der Lambda-Notation definieren.\n",
    "- Funktionen aufrufen.\n",
    "- Funktionen als Objekte behandeln.\n",
    "- Verstehen von Sichtbarkeitsbereichen (Scope)."
   ]
  },
  {
   "cell_type": "markdown",
   "id": "846d308b-4717-41f4-991c-a058ac202c74",
   "metadata": {},
   "source": [
    "## Einführung in Funktionen\n",
    "\n",
    "Funktionen sind wiederverwendbare Code-Blöcke. Sie werden mit dem `def`-Schlüsselwort definiert."
   ]
  },
  {
   "cell_type": "code",
   "execution_count": 16,
   "id": "31bf6b2d-171e-448b-a131-095f7f125670",
   "metadata": {},
   "outputs": [
    {
     "name": "stdout",
     "output_type": "stream",
     "text": [
      "Hello, World!\n"
     ]
    }
   ],
   "source": [
    "# Beispiel:\n",
    "def hello():\n",
    "    print(\"Hello, World!\")\n",
    "    \n",
    "# Funktion aufrufen\n",
    "hello()"
   ]
  },
  {
   "cell_type": "markdown",
   "id": "e21b38f5-b50f-4696-be0d-baf8b8609317",
   "metadata": {},
   "source": [
    "## Funktionen mit Argumenten\n",
    "\n",
    "Funktionen können Argumente annehmen, die sie bei ihrer Ausführung verwenden."
   ]
  },
  {
   "cell_type": "code",
   "execution_count": 13,
   "id": "44a823c6-a286-4999-9c51-bafba324f208",
   "metadata": {},
   "outputs": [
    {
     "name": "stdout",
     "output_type": "stream",
     "text": [
      "Hello, Alice!\n",
      "The history saving thread hit an unexpected error (OperationalError('attempt to write a readonly database')).History will not be written to the database.\n"
     ]
    }
   ],
   "source": [
    "def greeting(name):\n",
    "    print(\"Hello, \" + name + \"!\")\n",
    "\n",
    "# Call the function with the argument \"Alice\"\n",
    "greeting(\"Alice\")"
   ]
  },
  {
   "cell_type": "markdown",
   "id": "d01c48ac-7403-43b8-b80b-0f588ce9283d",
   "metadata": {},
   "source": [
    "## Funktionen mit Rückgabewert\n",
    "\n",
    "Funktionen können Werte mit dem `return`-Schlüsselwort zurückgeben.\n"
   ]
  },
  {
   "cell_type": "code",
   "execution_count": 17,
   "id": "79b0b447-2148-4a6c-8935-dbc2fe2cb344",
   "metadata": {},
   "outputs": [
    {
     "name": "stdout",
     "output_type": "stream",
     "text": [
      "7\n"
     ]
    }
   ],
   "source": [
    "# Example:\n",
    "def add(a, b):\n",
    "    return a + b\n",
    "    \n",
    "# Call the function and store the result\n",
    "result = add(3, 4)\n",
    "print(result)  # Output: 7"
   ]
  },
  {
   "cell_type": "markdown",
   "id": "db2a07cd-36ba-4ebd-b68d-5dfdb0f14093",
   "metadata": {},
   "source": [
    "## Lambda-Funktionen\n",
    "sind kleine, anonyme Funktionen, die mit dem lambda-Schlüsselwort definiert werden. Im Gegensatz zu regulären Funktionen, die mit dem def-Schlüsselwort definiert werden, werden Lambda-Funktionen oft für einfache, temporäre Operationen verwendet, die nur kurzzeitig benötigt werden, oft als Argumente für höherwertige Funktionen.\n",
    "### Syntax\n",
    "lambda argumente: ausdruck"
   ]
  },
  {
   "cell_type": "code",
   "execution_count": 15,
   "id": "872f16c5-55a2-4dcc-b306-74a2c1fe5e4f",
   "metadata": {},
   "outputs": [
    {
     "name": "stdout",
     "output_type": "stream",
     "text": [
      "15\n"
     ]
    }
   ],
   "source": [
    "# A lambda function that adds 10 to the input\n",
    "add_ten = lambda x: x + 10\n",
    "print(add_ten(5))  # Output: 15\n"
   ]
  },
  {
   "cell_type": "code",
   "execution_count": 14,
   "id": "602c3e26-f391-4294-8a45-5e7789068312",
   "metadata": {},
   "outputs": [
    {
     "name": "stdout",
     "output_type": "stream",
     "text": [
      "7\n"
     ]
    }
   ],
   "source": [
    "# A lambda function that adds two numbers\n",
    "add = lambda x, y: x + y\n",
    "print(add(3, 4))  # Output: 7"
   ]
  },
  {
   "cell_type": "markdown",
   "id": "bbd54348-c6eb-4ab6-981f-f7e56c2a568e",
   "metadata": {},
   "source": [
    "## Funktionen aufrufen\n",
    "\n",
    "Funktionen werden durch ihren Namen und Klammern aufgerufen."
   ]
  },
  {
   "cell_type": "code",
   "execution_count": 19,
   "id": "eadcbe5e-7251-4f52-92d1-ebdcd0a487cc",
   "metadata": {},
   "outputs": [
    {
     "name": "stdout",
     "output_type": "stream",
     "text": [
      "Hello, Bob!\n"
     ]
    }
   ],
   "source": [
    "# Example:\n",
    "def greeting(name):\n",
    "    print(\"Hello, \" + name + \"!\")\n",
    "    \n",
    "# Call the function\n",
    "greeting(\"Bob\")"
   ]
  },
  {
   "cell_type": "markdown",
   "id": "bbe7b768-3223-4a94-bd48-e3882db7bef6",
   "metadata": {},
   "source": [
    "## Funktionen als Objekte\n",
    "\n",
    "Funktionen können als Argumente an andere Funktionen übergeben werden."
   ]
  },
  {
   "cell_type": "code",
   "execution_count": 20,
   "id": "19f7464a-cbeb-4db7-a2d7-fd2420cae125",
   "metadata": {},
   "outputs": [
    {
     "name": "stdout",
     "output_type": "stream",
     "text": [
      "Hello, World!\n"
     ]
    }
   ],
   "source": [
    "# Example:\n",
    "def call_function(func):\n",
    "    func()\n",
    "    \n",
    "\n",
    "def hello():\n",
    "    print(\"Hello, World!\")\n",
    "    \n",
    "# Pass the function as an argument\n",
    "call_function(hello)"
   ]
  },
  {
   "cell_type": "markdown",
   "id": "1b7e8b7e-619d-4846-a70b-32c22ffc14e1",
   "metadata": {},
   "source": [
    "## Scope in Python\n",
    "\n",
    "Scope bestimmt die Sichtbarkeit von Variablen. Neuer Scope wird durch Module, Funktionen und Lambdas erstellt."
   ]
  },
  {
   "cell_type": "code",
   "execution_count": 10,
   "id": "7d152d3b-0999-4849-b394-330d34822131",
   "metadata": {},
   "outputs": [
    {
     "name": "stdout",
     "output_type": "stream",
     "text": [
      "5\n",
      "10\n"
     ]
    }
   ],
   "source": [
    "# Beispiel:\n",
    "x = 10  # globale Variable\n",
    "\n",
    "def foo():\n",
    "    x = 5  # lokale Variable\n",
    "    print(x)  # Ausgabe: 5\n",
    "\n",
    "foo()\n",
    "print(x)  # Ausgabe: 10"
   ]
  },
  {
   "cell_type": "markdown",
   "id": "4e4f65ea-b2e0-4840-9108-02c7001645ee",
   "metadata": {},
   "source": [
    "## Praktische Übungen\n",
    "\n",
    "1. Definiere eine Funktion, die zwei Zahlen multipliziert. (3, 4)\n",
    "2. Definiere eine Lambda-Funktion, die eine Zahl quadriert. 5\n",
    "3. Schreibe eine Funktion, die eine andere Funktion als Argument nimmt.\n",
    "4. Übe den Umgang mit Scope in einer Funktion."
   ]
  },
  {
   "cell_type": "code",
   "execution_count": 12,
   "id": "995d0a12-4b9f-45ad-a0d4-3acb37876178",
   "metadata": {},
   "outputs": [
    {
     "name": "stdout",
     "output_type": "stream",
     "text": [
      "12\n",
      "25\n",
      "Hallo, Welt!\n",
      "2\n",
      "2\n",
      "10\n"
     ]
    }
   ],
   "source": [
    "# Aufgabe 1: Funktion, die zwei Zahlen multipliziert\n",
    "def multipliziere(a, b):\n",
    "    return a * b\n",
    "\n",
    "print(multipliziere(3, 4))  # Ausgabe: 12\n",
    "\n",
    "# Aufgabe 2: Lambda-Funktion, die eine Zahl quadriert\n",
    "quadrat = lambda x: x * x\n",
    "print(quadrat(5))  # Ausgabe: 25\n",
    "\n",
    "# Aufgabe 3: Funktion, die eine andere Funktion als Argument nimmt\n",
    "def ausfuehren(funktion):\n",
    "    funktion()\n",
    "\n",
    "def hallo():\n",
    "    print(\"Hallo, Welt!\")\n",
    "\n",
    "ausfuehren(hallo)  # Ausgabe: Hallo, Welt!\n",
    "\n",
    "# Aufgabe 4: Umgang mit Scope\n",
    "y = 10\n",
    "\n",
    "def aussen():\n",
    "    y = 5\n",
    "    def innen():\n",
    "        nonlocal y\n",
    "        y = 2\n",
    "        print(y)  # Ausgabe: 2\n",
    "    innen()\n",
    "    print(y)  # Ausgabe: 2\n",
    "\n",
    "aussen()\n",
    "print(y)  # Ausgabe: 10"
   ]
  },
  {
   "cell_type": "markdown",
   "id": "d7495903-3656-4226-afb2-7708ba108682",
   "metadata": {},
   "source": [
    "### Aufgabe: Einfache Spieleentwickler: Zahlenratespiel\n",
    "\n",
    "Schreibe ein Programm, das ein einfaches Zahlenratespiel implementiert. In diesem Spiel wählt der Computer eine zufällige Zahl zwischen 1 und 100, und der Benutzer muss versuchen, diese Zahl zu erraten. Der Computer gibt Hinweise, ob die geratene Zahl zu hoch oder zu niedrig ist.\n",
    "\n",
    "#### Aufgabe:\n",
    "\n",
    "1. **Zufallszahl generieren**: Schreibe eine Funktion, die eine zufällige Zahl zwischen 1 und 100 generiert.\n",
    "2. **Benutzereingabe**: Schreibe eine Funktion, die den Benutzer auffordert, eine Zahl einzugeben.\n",
    "3. **Vergleichen**: Schreibe eine Funktion, die die Eingabe des Benutzers mit der zufälligen Zahl vergleicht und dem Benutzer mitteilt, ob seine Zahl zu hoch, zu niedrig oder genau richtig ist.\n",
    "4. **Spielablauf**: Schreibe eine Funktion, die das Spiel organisiert und die anderen Funktionen aufruft, bis der Benutzer die richtige Zahl errät.\n",
    "\n",
    "#### Anforderungen:\n",
    "\n",
    "- Verwende Schleifen und bedingte Anweisungen.\n",
    "- Verwende Funktionen zur Strukturierung des Programms.\n",
    "- Verwende Variablen, um die Anzahl der Versuche des Benutzers zu zählen.\n",
    "- Gib dem Benutzer Hinweise, ob die geratene Zahl zu hoch oder zu niedrig ist.\n",
    "- Zeige eine Nachricht an, wenn der Benutzer die richtige Zahl erraten hat, und gib die Anzahl der Versuche aus.\n",
    "\n",
    "#### Beispielausgabe:\n",
    "\n",
    "```plaintext\n",
    "Willkommen zum Zahlenratespiel!\n",
    "Ich habe mir eine Zahl zwischen 1 und 100 ausgedacht.\n",
    "Kannst du sie erraten?\n",
    "\n",
    "Gib deinen Tipp ein: 50\n",
    "Zu hoch! Versuche es erneut.\n",
    "\n",
    "Gib deinen Tipp ein: 25\n",
    "Zu niedrig! Versuche es erneut.\n",
    "\n",
    "Gib deinen Tipp ein: 37\n",
    "Herzlichen Glückwunsch! Du hast die Zahl in 3 Versuchen erraten.\n",
    "```\n",
    "\n",
    "\n",
    "### Erklärung:\n",
    "\n",
    "- **zufallszahl_generieren()**: Diese Funktion verwendet die `random.randint(1, 100)` Methode, um eine zufällige Zahl zwischen 1 und 100 zu generieren.\n",
    "- **benutzereingabe()**: Diese Funktion fordert den Benutzer auf, eine Zahl einzugeben, und gibt diese Zahl als Integer zurück.\n",
    "- **vergleichen(geratene_zahl, zufallszahl)**: Diese Funktion vergleicht die Eingabe des Benutzers mit der zufälligen Zahl und gibt Hinweise, ob die Zahl zu hoch oder zu niedrig ist. Wenn die Zahl richtig geraten wurde, wird `True` zurückgegeben, ansonsten `False`.\n",
    "- **spiel()**: Diese Funktion organisiert den Spielablauf. Sie ruft die anderen Funktionen auf, zählt die Versuche des Benutzers und gibt am Ende die Anzahl der Versuche aus, die der Benutzer benötigt hat, um die richtige Zahl zu erraten."
   ]
  },
  {
   "cell_type": "markdown",
   "id": "12532ae0-c582-45cf-9dc3-77c8b1803bcd",
   "metadata": {},
   "source": [
    "## Aufgabe: Textanalyse und Wortzählung\n",
    "\n",
    "Erstelle ein Programm, das einen Text analysiert und verschiedene Statistiken darüber ausgibt. Die Aufgabe soll die Nutzung von Funktionen, Variablen und Operatoren erfordern.\n",
    "\n",
    "#### Aufgabe:\n",
    "\n",
    "Schreibe ein Programm, das die folgenden Funktionen umfasst:\n",
    "\n",
    "1. **Text eingeben**: Eine Funktion, die den Benutzer auffordert, einen Text einzugeben.\n",
    "2. **Wortzählung**: Eine Funktion, die die Anzahl der Wörter im Text zählt.\n",
    "3. **Häufigkeit der Wörter**: Eine Funktion, die die Häufigkeit jedes Wortes im Text berechnet.\n",
    "4. **Längstes Wort**: Eine Funktion, die das längste Wort im Text findet.\n",
    "5. **Durchschnittliche Wortlänge**: Eine Funktion, die die durchschnittliche Länge der Wörter im Text berechnet.\n",
    "6. **Hauptprogramm**: Eine Funktion, die die oben genannten Funktionen aufruft und die Ergebnisse ausgibt.\n",
    "\n",
    "#### Anforderungen:\n",
    "\n",
    "- Verwende geeignete Variablen und Operatoren.\n",
    "- Nutze Funktionen zur Strukturierung des Programms.\n",
    "- Berücksichtige Groß- und Kleinschreibung nicht (d.h., \"Hallo\" und \"hallo\" sollten als dasselbe Wort betrachtet werden).\n",
    "\n",
    "#### Beispielausgabe:\n",
    "\n",
    "```plaintext\n",
    "Bitte gib einen Text ein:\n",
    "> Dies ist ein Beispieltext. Dieser Text ist nur ein Beispiel.\n",
    "\n",
    "Anzahl der Wörter: 10\n",
    "Häufigkeit der Wörter:\n",
    "  dies: 1\n",
    "  ist: 2\n",
    "  ein: 2\n",
    "  beispieltext: 1\n",
    "  dieser: 1\n",
    "  text: 1\n",
    "  nur: 1\n",
    "  beispiel: 1\n",
    "Längstes Wort: beispieltext\n",
    "Durchschnittliche Wortlänge: 5.1\n",
    "```\n",
    "\n",
    "\n",
    "### Erklärung:\n",
    "\n",
    "- **text_eingeben()**: Diese Funktion fordert den Benutzer zur Eingabe eines Textes auf und gibt diesen Text zurück. text.lower(): Diese Methode wandelt alle Großbuchstaben im String text in Kleinbuchstaben um.\n",
    "- **wortzaehlung(text)**: Diese Funktion entfernt Satzzeichen und wandelt den Text in Kleinbuchstaben um, bevor sie die Wörter zählt und eine Liste der Wörter zurückgibt.\n",
    "\n",
    "for char in \"-.,\\n\":: Dies ist eine Schleife, die durch die Zeichen '-', '.', ',' und '\\n' iteriert.\n",
    "\n",
    "```python\n",
    "for char in \"-.,\\n\":\n",
    "    text = text.replace(char, ' ')\n",
    "```\n",
    "text.replace(char, ' '): Diese Methode ersetzt alle Vorkommen des Zeichens char im String text durch ein Leerzeichen ' '.\n",
    "\n",
    "\n",
    "- **häufigkeit_der_wörter(wörter)**: Diese Funktion erstellt ein Wörterbuch, das die Häufigkeit jedes Wortes im Text speichert.\n",
    "- **längstes_wort(wörter)**: Diese Funktion findet das längste Wort in der Liste der Wörter.\n",
    "- **durchschnittliche_wortlänge(wörter)**: Diese Funktion berechnet die durchschnittliche Länge der Wörter im Text.\n",
    "- **hauptprogramm()**: Diese Funktion ruft alle anderen Funktionen auf, um den Text zu analysieren, und gibt die Ergebnisse aus."
   ]
  },
  {
   "cell_type": "markdown",
   "id": "d6bad93f",
   "metadata": {},
   "source": []
  }
 ],
 "metadata": {
  "kernelspec": {
   "display_name": "Python 3 (ipykernel)",
   "language": "python",
   "name": "python3"
  },
  "language_info": {
   "codemirror_mode": {
    "name": "ipython",
    "version": 3
   },
   "file_extension": ".py",
   "mimetype": "text/x-python",
   "name": "python",
   "nbconvert_exporter": "python",
   "pygments_lexer": "ipython3",
   "version": "3.12.3"
  }
 },
 "nbformat": 4,
 "nbformat_minor": 5
}
